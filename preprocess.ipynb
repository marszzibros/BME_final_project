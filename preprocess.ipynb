{
 "cells": [
  {
   "cell_type": "code",
   "execution_count": 1,
   "metadata": {},
   "outputs": [],
   "source": [
    "import torch \n",
    "\n",
    "import pandas as pd\n",
    "import numpy as np\n",
    "\n"
   ]
  },
  {
   "cell_type": "code",
   "execution_count": 2,
   "metadata": {},
   "outputs": [],
   "source": [
    "covid_df = pd.read_excel(\"COVID-19_Radiography_Dataset/COVID.metadata.xlsx\")\n",
    "opacity_df = pd.read_excel(\"COVID-19_Radiography_Dataset/Lung_Opacity.metadata.xlsx\")\n",
    "normal_df = pd.read_excel(\"COVID-19_Radiography_Dataset/Normal.metadata.xlsx\")\n",
    "pneumonia_df = pd.read_excel(\"COVID-19_Radiography_Dataset/Pneumonia.metadata.xlsx\")"
   ]
  },
  {
   "cell_type": "code",
   "execution_count": 3,
   "metadata": {},
   "outputs": [
    {
     "name": "stderr",
     "output_type": "stream",
     "text": [
      "C:\\Users\\hwasu\\AppData\\Local\\Temp\\ipykernel_34828\\3223395018.py:2: FutureWarning: Series.__getitem__ treating keys as positions is deprecated. In a future version, integer keys will always be treated as labels (consistent with DataFrame behavior). To access a value by position, use `ser.iloc[pos]`\n",
      "  lambda x: f\"COVID-19_Radiography_Dataset/{x[0].split('-')[0]}/images/{x[0]}.{x[1].lower()}\",\n",
      "C:\\Users\\hwasu\\AppData\\Local\\Temp\\ipykernel_34828\\3223395018.py:6: FutureWarning: Series.__getitem__ treating keys as positions is deprecated. In a future version, integer keys will always be treated as labels (consistent with DataFrame behavior). To access a value by position, use `ser.iloc[pos]`\n",
      "  lambda x: f\"COVID-19_Radiography_Dataset/{x[0].split('-')[0]}/images/{x[0]}.{x[1].lower()}\",\n",
      "C:\\Users\\hwasu\\AppData\\Local\\Temp\\ipykernel_34828\\3223395018.py:10: FutureWarning: Series.__getitem__ treating keys as positions is deprecated. In a future version, integer keys will always be treated as labels (consistent with DataFrame behavior). To access a value by position, use `ser.iloc[pos]`\n",
      "  lambda x: f\"COVID-19_Radiography_Dataset/{x[0].split('-')[0]}/images/{x[0]}.{x[1].lower()}\",\n",
      "C:\\Users\\hwasu\\AppData\\Local\\Temp\\ipykernel_34828\\3223395018.py:14: FutureWarning: Series.__getitem__ treating keys as positions is deprecated. In a future version, integer keys will always be treated as labels (consistent with DataFrame behavior). To access a value by position, use `ser.iloc[pos]`\n",
      "  lambda x: f\"COVID-19_Radiography_Dataset/{x[0].split('-')[0]}/images/{x[0]}.{x[1].lower()}\",\n"
     ]
    }
   ],
   "source": [
    "covid_df['path'] = covid_df.apply(\n",
    "    lambda x: f\"COVID-19_Radiography_Dataset/{x[0].split('-')[0]}/images/{x[0]}.{x[1].lower()}\",\n",
    "    axis=1\n",
    ")\n",
    "opacity_df['path'] = opacity_df.apply(\n",
    "    lambda x: f\"COVID-19_Radiography_Dataset/{x[0].split('-')[0]}/images/{x[0]}.{x[1].lower()}\",\n",
    "    axis=1\n",
    ")\n",
    "normal_df['path'] = normal_df.apply(\n",
    "    lambda x: f\"COVID-19_Radiography_Dataset/{x[0].split('-')[0]}/images/{x[0]}.{x[1].lower()}\",\n",
    "    axis=1\n",
    ")\n",
    "pneumonia_df['path'] = pneumonia_df.apply(\n",
    "    lambda x: f\"COVID-19_Radiography_Dataset/{x[0].split('-')[0]}/images/{x[0]}.{x[1].lower()}\",\n",
    "    axis=1\n",
    ")"
   ]
  },
  {
   "cell_type": "code",
   "execution_count": 4,
   "metadata": {},
   "outputs": [],
   "source": [
    "df = pd.concat([covid_df,opacity_df,normal_df,pneumonia_df]).reset_index(drop=True)\n",
    "df['class'] = df['FILE NAME'].apply(lambda x: x.split(\"-\")[0])\n",
    "df = df[['class', 'path']]"
   ]
  },
  {
   "cell_type": "code",
   "execution_count": 5,
   "metadata": {},
   "outputs": [
    {
     "data": {
      "text/html": [
       "<div>\n",
       "<style scoped>\n",
       "    .dataframe tbody tr th:only-of-type {\n",
       "        vertical-align: middle;\n",
       "    }\n",
       "\n",
       "    .dataframe tbody tr th {\n",
       "        vertical-align: top;\n",
       "    }\n",
       "\n",
       "    .dataframe thead th {\n",
       "        text-align: right;\n",
       "    }\n",
       "</style>\n",
       "<table border=\"1\" class=\"dataframe\">\n",
       "  <thead>\n",
       "    <tr style=\"text-align: right;\">\n",
       "      <th></th>\n",
       "      <th>class</th>\n",
       "      <th>path</th>\n",
       "      <th>class_number</th>\n",
       "    </tr>\n",
       "  </thead>\n",
       "  <tbody>\n",
       "    <tr>\n",
       "      <th>0</th>\n",
       "      <td>COVID</td>\n",
       "      <td>COVID-19_Radiography_Dataset/COVID/images/COVI...</td>\n",
       "      <td>0</td>\n",
       "    </tr>\n",
       "    <tr>\n",
       "      <th>1</th>\n",
       "      <td>COVID</td>\n",
       "      <td>COVID-19_Radiography_Dataset/COVID/images/COVI...</td>\n",
       "      <td>0</td>\n",
       "    </tr>\n",
       "    <tr>\n",
       "      <th>2</th>\n",
       "      <td>COVID</td>\n",
       "      <td>COVID-19_Radiography_Dataset/COVID/images/COVI...</td>\n",
       "      <td>0</td>\n",
       "    </tr>\n",
       "    <tr>\n",
       "      <th>3</th>\n",
       "      <td>COVID</td>\n",
       "      <td>COVID-19_Radiography_Dataset/COVID/images/COVI...</td>\n",
       "      <td>0</td>\n",
       "    </tr>\n",
       "    <tr>\n",
       "      <th>4</th>\n",
       "      <td>COVID</td>\n",
       "      <td>COVID-19_Radiography_Dataset/COVID/images/COVI...</td>\n",
       "      <td>0</td>\n",
       "    </tr>\n",
       "    <tr>\n",
       "      <th>...</th>\n",
       "      <td>...</td>\n",
       "      <td>...</td>\n",
       "      <td>...</td>\n",
       "    </tr>\n",
       "    <tr>\n",
       "      <th>21160</th>\n",
       "      <td>Viral Pneumonia</td>\n",
       "      <td>COVID-19_Radiography_Dataset/Viral Pneumonia/i...</td>\n",
       "      <td>3</td>\n",
       "    </tr>\n",
       "    <tr>\n",
       "      <th>21161</th>\n",
       "      <td>Viral Pneumonia</td>\n",
       "      <td>COVID-19_Radiography_Dataset/Viral Pneumonia/i...</td>\n",
       "      <td>3</td>\n",
       "    </tr>\n",
       "    <tr>\n",
       "      <th>21162</th>\n",
       "      <td>Viral Pneumonia</td>\n",
       "      <td>COVID-19_Radiography_Dataset/Viral Pneumonia/i...</td>\n",
       "      <td>3</td>\n",
       "    </tr>\n",
       "    <tr>\n",
       "      <th>21163</th>\n",
       "      <td>Viral Pneumonia</td>\n",
       "      <td>COVID-19_Radiography_Dataset/Viral Pneumonia/i...</td>\n",
       "      <td>3</td>\n",
       "    </tr>\n",
       "    <tr>\n",
       "      <th>21164</th>\n",
       "      <td>Viral Pneumonia</td>\n",
       "      <td>COVID-19_Radiography_Dataset/Viral Pneumonia/i...</td>\n",
       "      <td>3</td>\n",
       "    </tr>\n",
       "  </tbody>\n",
       "</table>\n",
       "<p>21165 rows × 3 columns</p>\n",
       "</div>"
      ],
      "text/plain": [
       "                 class                                               path  \\\n",
       "0                COVID  COVID-19_Radiography_Dataset/COVID/images/COVI...   \n",
       "1                COVID  COVID-19_Radiography_Dataset/COVID/images/COVI...   \n",
       "2                COVID  COVID-19_Radiography_Dataset/COVID/images/COVI...   \n",
       "3                COVID  COVID-19_Radiography_Dataset/COVID/images/COVI...   \n",
       "4                COVID  COVID-19_Radiography_Dataset/COVID/images/COVI...   \n",
       "...                ...                                                ...   \n",
       "21160  Viral Pneumonia  COVID-19_Radiography_Dataset/Viral Pneumonia/i...   \n",
       "21161  Viral Pneumonia  COVID-19_Radiography_Dataset/Viral Pneumonia/i...   \n",
       "21162  Viral Pneumonia  COVID-19_Radiography_Dataset/Viral Pneumonia/i...   \n",
       "21163  Viral Pneumonia  COVID-19_Radiography_Dataset/Viral Pneumonia/i...   \n",
       "21164  Viral Pneumonia  COVID-19_Radiography_Dataset/Viral Pneumonia/i...   \n",
       "\n",
       "       class_number  \n",
       "0                 0  \n",
       "1                 0  \n",
       "2                 0  \n",
       "3                 0  \n",
       "4                 0  \n",
       "...             ...  \n",
       "21160             3  \n",
       "21161             3  \n",
       "21162             3  \n",
       "21163             3  \n",
       "21164             3  \n",
       "\n",
       "[21165 rows x 3 columns]"
      ]
     },
     "execution_count": 5,
     "metadata": {},
     "output_type": "execute_result"
    }
   ],
   "source": [
    "class_mapping = {\n",
    "    \"COVID\": 0,\n",
    "    \"Lung_Opacity\": 1,\n",
    "    \"NORMAL\": 2,\n",
    "    \"Viral Pneumonia\": 3\n",
    "}\n",
    "df['class_number'] = df['class'].map(class_mapping).astype(int)\n",
    "df"
   ]
  },
  {
   "cell_type": "code",
   "execution_count": 6,
   "metadata": {},
   "outputs": [],
   "source": [
    "train_ratio = 0.7\n",
    "val_ratio = 0.15\n",
    "test_ratio = 0.15\n",
    "\n",
    "df['type'] = np.random.choice(\n",
    "    ['train', 'val', 'test'],  # Choices\n",
    "    size=len(df),              # Number of samples\n",
    "    p=[train_ratio, val_ratio, test_ratio]  # Probabilities\n",
    ")"
   ]
  },
  {
   "cell_type": "code",
   "execution_count": 7,
   "metadata": {},
   "outputs": [],
   "source": [
    "df.to_csv(\"metadata.csv\")"
   ]
  }
 ],
 "metadata": {
  "kernelspec": {
   "display_name": "bme_final",
   "language": "python",
   "name": "python3"
  },
  "language_info": {
   "codemirror_mode": {
    "name": "ipython",
    "version": 3
   },
   "file_extension": ".py",
   "mimetype": "text/x-python",
   "name": "python",
   "nbconvert_exporter": "python",
   "pygments_lexer": "ipython3",
   "version": "3.9.21"
  }
 },
 "nbformat": 4,
 "nbformat_minor": 2
}
